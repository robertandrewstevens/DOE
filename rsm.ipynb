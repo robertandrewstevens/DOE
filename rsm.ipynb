{
 "cells": [
  {
   "cell_type": "markdown",
   "metadata": {},
   "source": [
    "https://pythonhosted.org/pyDOE/rsm.html\n",
    "\n",
    "# Response Surface Designs\n",
    "\n",
    "In this section, the following kinds of response surface designs will be described:\n",
    "\n",
    "- Box-Behnken\n",
    "\n",
    "- Central Composite\n",
    "\n",
    ">Hint: All available designs can be accessed after a simple import statement:"
   ]
  },
  {
   "cell_type": "code",
   "execution_count": 1,
   "metadata": {},
   "outputs": [],
   "source": [
    "# pip install --upgrade pyDOE2"
   ]
  },
  {
   "cell_type": "code",
   "execution_count": 2,
   "metadata": {},
   "outputs": [],
   "source": [
    "# from pyDOE import *\n",
    "from pyDOE2 import *\n",
    "import numpy as np\n",
    "import pandas as pd"
   ]
  },
  {
   "cell_type": "markdown",
   "metadata": {},
   "source": [
    "## Box-Behnken (`bbdesign`)\n",
    "\n",
    "http://www.itl.nist.gov/div898/handbook/pri/section3/gifs/bb.gif\n",
    "\n",
    "Box-Behnken designs can be created using the following simple syntax:\n",
    "\n",
    "```\n",
    "bbdesign(n, center)\n",
    "```\n",
    "\n",
    "where n is the number of factors (at least 3 required) and center is the number of center points to include. If no inputs given to center, then a pre-determined number of points are automatically included."
   ]
  },
  {
   "cell_type": "markdown",
   "metadata": {},
   "source": [
    "## Examples\n",
    "\n",
    "The default 3-factor Box-Behnken design:"
   ]
  },
  {
   "cell_type": "code",
   "execution_count": 3,
   "metadata": {},
   "outputs": [
    {
     "data": {
      "text/plain": [
       "array([[-1., -1.,  0.],\n",
       "       [ 1., -1.,  0.],\n",
       "       [-1.,  1.,  0.],\n",
       "       [ 1.,  1.,  0.],\n",
       "       [-1.,  0., -1.],\n",
       "       [ 1.,  0., -1.],\n",
       "       [-1.,  0.,  1.],\n",
       "       [ 1.,  0.,  1.],\n",
       "       [ 0., -1., -1.],\n",
       "       [ 0.,  1., -1.],\n",
       "       [ 0., -1.,  1.],\n",
       "       [ 0.,  1.,  1.],\n",
       "       [ 0.,  0.,  0.],\n",
       "       [ 0.,  0.,  0.],\n",
       "       [ 0.,  0.,  0.]])"
      ]
     },
     "execution_count": 3,
     "metadata": {},
     "output_type": "execute_result"
    }
   ],
   "source": [
    "bbd3 = bbdesign(3)\n",
    "bbd3"
   ]
  },
  {
   "cell_type": "code",
   "execution_count": 4,
   "metadata": {},
   "outputs": [
    {
     "data": {
      "text/plain": [
       "(15, 3)"
      ]
     },
     "execution_count": 4,
     "metadata": {},
     "output_type": "execute_result"
    }
   ],
   "source": [
    "bbd3.shape"
   ]
  },
  {
   "cell_type": "code",
   "execution_count": 5,
   "metadata": {},
   "outputs": [
    {
     "data": {
      "text/plain": [
       "array([[1., 0., 0.],\n",
       "       [0., 1., 0.],\n",
       "       [0., 0., 1.]])"
      ]
     },
     "execution_count": 5,
     "metadata": {},
     "output_type": "execute_result"
    }
   ],
   "source": [
    "np.corrcoef(bbd3.T)"
   ]
  },
  {
   "cell_type": "markdown",
   "metadata": {},
   "source": [
    "A customized design with four factors, but only a single center point:"
   ]
  },
  {
   "cell_type": "code",
   "execution_count": 6,
   "metadata": {},
   "outputs": [
    {
     "data": {
      "text/plain": [
       "array([[-1., -1.,  0.,  0.],\n",
       "       [ 1., -1.,  0.,  0.],\n",
       "       [-1.,  1.,  0.,  0.],\n",
       "       [ 1.,  1.,  0.,  0.],\n",
       "       [-1.,  0., -1.,  0.],\n",
       "       [ 1.,  0., -1.,  0.],\n",
       "       [-1.,  0.,  1.,  0.],\n",
       "       [ 1.,  0.,  1.,  0.],\n",
       "       [-1.,  0.,  0., -1.],\n",
       "       [ 1.,  0.,  0., -1.],\n",
       "       [-1.,  0.,  0.,  1.],\n",
       "       [ 1.,  0.,  0.,  1.],\n",
       "       [ 0., -1., -1.,  0.],\n",
       "       [ 0.,  1., -1.,  0.],\n",
       "       [ 0., -1.,  1.,  0.],\n",
       "       [ 0.,  1.,  1.,  0.],\n",
       "       [ 0., -1.,  0., -1.],\n",
       "       [ 0.,  1.,  0., -1.],\n",
       "       [ 0., -1.,  0.,  1.],\n",
       "       [ 0.,  1.,  0.,  1.],\n",
       "       [ 0.,  0., -1., -1.],\n",
       "       [ 0.,  0.,  1., -1.],\n",
       "       [ 0.,  0., -1.,  1.],\n",
       "       [ 0.,  0.,  1.,  1.],\n",
       "       [ 0.,  0.,  0.,  0.]])"
      ]
     },
     "execution_count": 6,
     "metadata": {},
     "output_type": "execute_result"
    }
   ],
   "source": [
    "bbd4_1 = bbdesign(4, center=1)\n",
    "bbd4_1"
   ]
  },
  {
   "cell_type": "code",
   "execution_count": 7,
   "metadata": {},
   "outputs": [
    {
     "data": {
      "text/plain": [
       "(25, 4)"
      ]
     },
     "execution_count": 7,
     "metadata": {},
     "output_type": "execute_result"
    }
   ],
   "source": [
    "bbd4_1.shape"
   ]
  },
  {
   "cell_type": "code",
   "execution_count": 8,
   "metadata": {},
   "outputs": [
    {
     "data": {
      "text/plain": [
       "array([[1., 0., 0., 0.],\n",
       "       [0., 1., 0., 0.],\n",
       "       [0., 0., 1., 0.],\n",
       "       [0., 0., 0., 1.]])"
      ]
     },
     "execution_count": 8,
     "metadata": {},
     "output_type": "execute_result"
    }
   ],
   "source": [
    "np.corrcoef(bbd4_1.T)"
   ]
  },
  {
   "cell_type": "markdown",
   "metadata": {},
   "source": [
    "## Central Composite (`ccdesign`)\n",
    "\n",
    "http://www.itl.nist.gov/div898/handbook/pri/section3/gifs/fig5.gif\n",
    "\n",
    "Central composite designs can be created and customized using the syntax:\n",
    "\n",
    "```\n",
    "ccdesign(n, center, alpha, face)\n",
    "```\n",
    "\n",
    "where\n",
    "\n",
    "- `n` is the number of factors,\n",
    "\n",
    "- `center` is a 2-tuple of center points (one for the factorial block, one for the star block, default (4, 4)),\n",
    "\n",
    "- `alpha` is either “orthogonal” (or “o”, default) or “rotatable” (or “r”)\n",
    "\n",
    "- `face` is either “circumscribed” (or “ccc”, default), “inscribed” (or “cci”), or “faced” (or “ccf”).\n",
    "\n",
    "http://www.itl.nist.gov/div898/handbook/pri/section3/gifs/ccd2.gif\n",
    "\n",
    "The two optional keyword arguments alpha and face help describe how the variance in the quadratic approximation is distributed. Please see the NIST web pages if you are uncertain which options are suitable for your situation.\n",
    "\n",
    "Note:\n",
    "\n",
    "- ‘ccc’ and ‘cci’ can be rotatable designs, but ‘ccf’ cannot\n",
    "\n",
    "- If face is specified, while alpha is not, then the default value of alpha is ‘orthogonal’"
   ]
  },
  {
   "cell_type": "markdown",
   "metadata": {},
   "source": [
    "## Examples\n",
    "\n",
    "Simplest input, assuming default kwargs:"
   ]
  },
  {
   "cell_type": "code",
   "execution_count": 9,
   "metadata": {},
   "outputs": [
    {
     "data": {
      "text/plain": [
       "array([[-1.        , -1.        ],\n",
       "       [ 1.        , -1.        ],\n",
       "       [-1.        ,  1.        ],\n",
       "       [ 1.        ,  1.        ],\n",
       "       [ 0.        ,  0.        ],\n",
       "       [ 0.        ,  0.        ],\n",
       "       [ 0.        ,  0.        ],\n",
       "       [ 0.        ,  0.        ],\n",
       "       [-1.41421356,  0.        ],\n",
       "       [ 1.41421356,  0.        ],\n",
       "       [ 0.        , -1.41421356],\n",
       "       [ 0.        ,  1.41421356],\n",
       "       [ 0.        ,  0.        ],\n",
       "       [ 0.        ,  0.        ],\n",
       "       [ 0.        ,  0.        ],\n",
       "       [ 0.        ,  0.        ]])"
      ]
     },
     "execution_count": 9,
     "metadata": {},
     "output_type": "execute_result"
    }
   ],
   "source": [
    "ccd2 = ccdesign(2)\n",
    "ccd2"
   ]
  },
  {
   "cell_type": "code",
   "execution_count": 10,
   "metadata": {},
   "outputs": [
    {
     "data": {
      "text/plain": [
       "(16, 2)"
      ]
     },
     "execution_count": 10,
     "metadata": {},
     "output_type": "execute_result"
    }
   ],
   "source": [
    "ccd2.shape"
   ]
  },
  {
   "cell_type": "code",
   "execution_count": 11,
   "metadata": {},
   "outputs": [
    {
     "data": {
      "text/plain": [
       "array([[1., 0.],\n",
       "       [0., 1.]])"
      ]
     },
     "execution_count": 11,
     "metadata": {},
     "output_type": "execute_result"
    }
   ],
   "source": [
    "np.corrcoef(ccd2.T)"
   ]
  },
  {
   "cell_type": "markdown",
   "metadata": {},
   "source": [
    "More customized input, say, for a set of computer experiments where there isn’t variability so we only need a single center point:"
   ]
  },
  {
   "cell_type": "code",
   "execution_count": 12,
   "metadata": {},
   "outputs": [
    {
     "data": {
      "text/plain": [
       "array([[-0.59460356, -0.59460356, -0.59460356],\n",
       "       [ 0.59460356, -0.59460356, -0.59460356],\n",
       "       [-0.59460356,  0.59460356, -0.59460356],\n",
       "       [ 0.59460356,  0.59460356, -0.59460356],\n",
       "       [-0.59460356, -0.59460356,  0.59460356],\n",
       "       [ 0.59460356, -0.59460356,  0.59460356],\n",
       "       [-0.59460356,  0.59460356,  0.59460356],\n",
       "       [ 0.59460356,  0.59460356,  0.59460356],\n",
       "       [-1.        ,  0.        ,  0.        ],\n",
       "       [ 1.        ,  0.        ,  0.        ],\n",
       "       [ 0.        , -1.        ,  0.        ],\n",
       "       [ 0.        ,  1.        ,  0.        ],\n",
       "       [ 0.        ,  0.        , -1.        ],\n",
       "       [ 0.        ,  0.        ,  1.        ],\n",
       "       [ 0.        ,  0.        ,  0.        ]])"
      ]
     },
     "execution_count": 12,
     "metadata": {},
     "output_type": "execute_result"
    }
   ],
   "source": [
    "ccd3 = ccdesign(3, center=(0, 1), alpha='r', face='cci')\n",
    "ccd3"
   ]
  },
  {
   "cell_type": "code",
   "execution_count": 13,
   "metadata": {},
   "outputs": [
    {
     "data": {
      "text/plain": [
       "(15, 3)"
      ]
     },
     "execution_count": 13,
     "metadata": {},
     "output_type": "execute_result"
    }
   ],
   "source": [
    "ccd3.shape"
   ]
  },
  {
   "cell_type": "code",
   "execution_count": 14,
   "metadata": {},
   "outputs": [
    {
     "data": {
      "text/plain": [
       "array([[1., 0., 0.],\n",
       "       [0., 1., 0.],\n",
       "       [0., 0., 1.]])"
      ]
     },
     "execution_count": 14,
     "metadata": {},
     "output_type": "execute_result"
    }
   ],
   "source": [
    "np.round(np.corrcoef(ccd3.T), 3)"
   ]
  },
  {
   "cell_type": "markdown",
   "metadata": {},
   "source": [
    "## More Information\n",
    "\n",
    "If the user needs more information about appropriate designs, please consult the following articles on Wikipedia:\n",
    "\n",
    "- Box-Behnken designs\n",
    "    + http://en.wikipedia.org/wiki/Box-Behnken_design\n",
    "\n",
    "- Central composite designs\n",
    "    + http://en.wikipedia.org/wiki/Central_composite_design\n",
    "\n",
    "There is also a wealth of information on the NIST website about the various design matrices that can be created as well as detailed information about designing/setting-up/running experiments in general:\n",
    "\n",
    "http://www.itl.nist.gov/div898/handbook/pri/pri.htm\n",
    "\n",
    "Any questions, comments, bug-fixes, etc. can be forwarded to the [author](tisimst@gmail.com)."
   ]
  }
 ],
 "metadata": {
  "kernelspec": {
   "display_name": "Python 3",
   "language": "python",
   "name": "python3"
  },
  "language_info": {
   "codemirror_mode": {
    "name": "ipython",
    "version": 3
   },
   "file_extension": ".py",
   "mimetype": "text/x-python",
   "name": "python",
   "nbconvert_exporter": "python",
   "pygments_lexer": "ipython3",
   "version": "3.7.7"
  }
 },
 "nbformat": 4,
 "nbformat_minor": 4
}
