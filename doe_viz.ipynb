{
 "cells": [
  {
   "cell_type": "markdown",
   "id": "c1aaf7a2",
   "metadata": {},
   "source": [
    "prototype function to visualize transfer functions like y = f(x1, x2, x3) and y = g(x1, x2, x3) one-at-a-time for project (tidyworkflow communicate step)"
   ]
  },
  {
   "cell_type": "code",
   "execution_count": 1,
   "id": "855df36d",
   "metadata": {},
   "outputs": [],
   "source": [
    "import pandas as pd\n",
    "import numpy as np\n",
    "import matplotlib.pyplot as plt"
   ]
  },
  {
   "cell_type": "code",
   "execution_count": 2,
   "id": "051052a8",
   "metadata": {},
   "outputs": [],
   "source": [
    "def f(x1, x2, x3):\n",
    "    return x1 ** 2 + np.log(x2) + np.sqrt(x3)"
   ]
  },
  {
   "cell_type": "code",
   "execution_count": 3,
   "id": "3bafa956",
   "metadata": {},
   "outputs": [
    {
     "data": {
      "text/plain": [
       "0.9571067811865476"
      ]
     },
     "execution_count": 3,
     "metadata": {},
     "output_type": "execute_result"
    }
   ],
   "source": [
    "# test\n",
    "f(0.5, 1, 0.5)"
   ]
  },
  {
   "cell_type": "code",
   "execution_count": 4,
   "id": "2cc16560",
   "metadata": {},
   "outputs": [],
   "source": [
    "def g(x1, x2, x3):\n",
    "    return np.log(x1) + np.sqrt(x2) + x3 ** 2"
   ]
  },
  {
   "cell_type": "code",
   "execution_count": 5,
   "id": "8c4e4a11",
   "metadata": {},
   "outputs": [
    {
     "data": {
      "text/plain": [
       "0.5568528194400547"
      ]
     },
     "execution_count": 5,
     "metadata": {},
     "output_type": "execute_result"
    }
   ],
   "source": [
    "# test\n",
    "g(0.5, 1, 0.5)"
   ]
  },
  {
   "cell_type": "code",
   "execution_count": 6,
   "id": "65c186a8",
   "metadata": {},
   "outputs": [
    {
     "data": {
      "text/html": [
       "<div>\n",
       "<style scoped>\n",
       "    .dataframe tbody tr th:only-of-type {\n",
       "        vertical-align: middle;\n",
       "    }\n",
       "\n",
       "    .dataframe tbody tr th {\n",
       "        vertical-align: top;\n",
       "    }\n",
       "\n",
       "    .dataframe thead th {\n",
       "        text-align: right;\n",
       "    }\n",
       "</style>\n",
       "<table border=\"1\" class=\"dataframe\">\n",
       "  <thead>\n",
       "    <tr style=\"text-align: right;\">\n",
       "      <th></th>\n",
       "      <th>A</th>\n",
       "      <th>B</th>\n",
       "      <th>C</th>\n",
       "      <th>A_fixed</th>\n",
       "      <th>B_fixed</th>\n",
       "      <th>C_fixed</th>\n",
       "    </tr>\n",
       "  </thead>\n",
       "  <tbody>\n",
       "    <tr>\n",
       "      <th>0</th>\n",
       "      <td>0.000000</td>\n",
       "      <td>0.000000</td>\n",
       "      <td>0.000000</td>\n",
       "      <td>0.5</td>\n",
       "      <td>1</td>\n",
       "      <td>0.5</td>\n",
       "    </tr>\n",
       "    <tr>\n",
       "      <th>1</th>\n",
       "      <td>0.010101</td>\n",
       "      <td>0.010101</td>\n",
       "      <td>0.010101</td>\n",
       "      <td>0.5</td>\n",
       "      <td>1</td>\n",
       "      <td>0.5</td>\n",
       "    </tr>\n",
       "    <tr>\n",
       "      <th>2</th>\n",
       "      <td>0.020202</td>\n",
       "      <td>0.020202</td>\n",
       "      <td>0.020202</td>\n",
       "      <td>0.5</td>\n",
       "      <td>1</td>\n",
       "      <td>0.5</td>\n",
       "    </tr>\n",
       "    <tr>\n",
       "      <th>3</th>\n",
       "      <td>0.030303</td>\n",
       "      <td>0.030303</td>\n",
       "      <td>0.030303</td>\n",
       "      <td>0.5</td>\n",
       "      <td>1</td>\n",
       "      <td>0.5</td>\n",
       "    </tr>\n",
       "    <tr>\n",
       "      <th>4</th>\n",
       "      <td>0.040404</td>\n",
       "      <td>0.040404</td>\n",
       "      <td>0.040404</td>\n",
       "      <td>0.5</td>\n",
       "      <td>1</td>\n",
       "      <td>0.5</td>\n",
       "    </tr>\n",
       "  </tbody>\n",
       "</table>\n",
       "</div>"
      ],
      "text/plain": [
       "          A         B         C  A_fixed  B_fixed  C_fixed\n",
       "0  0.000000  0.000000  0.000000      0.5        1      0.5\n",
       "1  0.010101  0.010101  0.010101      0.5        1      0.5\n",
       "2  0.020202  0.020202  0.020202      0.5        1      0.5\n",
       "3  0.030303  0.030303  0.030303      0.5        1      0.5\n",
       "4  0.040404  0.040404  0.040404      0.5        1      0.5"
      ]
     },
     "execution_count": 6,
     "metadata": {},
     "output_type": "execute_result"
    }
   ],
   "source": [
    "A = np.linspace(0, 1, 100)\n",
    "B = np.linspace(0, 1, 100)\n",
    "C = np.linspace(0, 1, 100)\n",
    "\n",
    "# define design space: dspace\n",
    "dspace = pd.DataFrame([A, B, C]).T\n",
    "dspace.columns = ['A', 'B', 'C']\n",
    "dspace['A_fixed'] = 0.5\n",
    "dspace['B_fixed'] = 1\n",
    "dspace['C_fixed'] = 0.5\n",
    "dspace.head()"
   ]
  },
  {
   "cell_type": "code",
   "execution_count": 7,
   "id": "3fd5a9d4",
   "metadata": {},
   "outputs": [
    {
     "name": "stderr",
     "output_type": "stream",
     "text": [
      "/anaconda3/lib/python3.7/site-packages/pandas/core/arraylike.py:358: RuntimeWarning: divide by zero encountered in log\n",
      "  result = getattr(ufunc, method)(*inputs, **kwargs)\n"
     ]
    }
   ],
   "source": [
    "dspace['f_A'] = f(dspace['A'], dspace['B_fixed'], dspace['C_fixed'])\n",
    "dspace['f_B'] = f(dspace['A_fixed'], dspace['B'], dspace['C_fixed'])\n",
    "dspace['f_C'] = f(dspace['A_fixed'], dspace['B_fixed'], dspace['C'])\n",
    "\n",
    "dspace['g_A'] = g(dspace['A'], dspace['B_fixed'], dspace['C_fixed'])\n",
    "dspace['g_B'] = g(dspace['A_fixed'], dspace['B'], dspace['C_fixed'])\n",
    "dspace['g_C'] = g(dspace['A_fixed'], dspace['B_fixed'], dspace['C'])\n"
   ]
  },
  {
   "cell_type": "code",
   "execution_count": 8,
   "id": "110e70e2",
   "metadata": {},
   "outputs": [
    {
     "data": {
      "text/html": [
       "<div>\n",
       "<style scoped>\n",
       "    .dataframe tbody tr th:only-of-type {\n",
       "        vertical-align: middle;\n",
       "    }\n",
       "\n",
       "    .dataframe tbody tr th {\n",
       "        vertical-align: top;\n",
       "    }\n",
       "\n",
       "    .dataframe thead th {\n",
       "        text-align: right;\n",
       "    }\n",
       "</style>\n",
       "<table border=\"1\" class=\"dataframe\">\n",
       "  <thead>\n",
       "    <tr style=\"text-align: right;\">\n",
       "      <th></th>\n",
       "      <th>A</th>\n",
       "      <th>B</th>\n",
       "      <th>C</th>\n",
       "      <th>A_fixed</th>\n",
       "      <th>B_fixed</th>\n",
       "      <th>C_fixed</th>\n",
       "      <th>f_A</th>\n",
       "      <th>f_B</th>\n",
       "      <th>f_C</th>\n",
       "      <th>g_A</th>\n",
       "      <th>g_B</th>\n",
       "      <th>g_C</th>\n",
       "    </tr>\n",
       "  </thead>\n",
       "  <tbody>\n",
       "    <tr>\n",
       "      <th>0</th>\n",
       "      <td>0.000000</td>\n",
       "      <td>0.000000</td>\n",
       "      <td>0.000000</td>\n",
       "      <td>0.5</td>\n",
       "      <td>1</td>\n",
       "      <td>0.5</td>\n",
       "      <td>0.707107</td>\n",
       "      <td>-inf</td>\n",
       "      <td>0.250000</td>\n",
       "      <td>-inf</td>\n",
       "      <td>-0.443147</td>\n",
       "      <td>0.306853</td>\n",
       "    </tr>\n",
       "    <tr>\n",
       "      <th>1</th>\n",
       "      <td>0.010101</td>\n",
       "      <td>0.010101</td>\n",
       "      <td>0.010101</td>\n",
       "      <td>0.5</td>\n",
       "      <td>1</td>\n",
       "      <td>0.5</td>\n",
       "      <td>0.707209</td>\n",
       "      <td>-3.638013</td>\n",
       "      <td>0.350504</td>\n",
       "      <td>-3.345120</td>\n",
       "      <td>-0.342643</td>\n",
       "      <td>0.306955</td>\n",
       "    </tr>\n",
       "    <tr>\n",
       "      <th>2</th>\n",
       "      <td>0.020202</td>\n",
       "      <td>0.020202</td>\n",
       "      <td>0.020202</td>\n",
       "      <td>0.5</td>\n",
       "      <td>1</td>\n",
       "      <td>0.5</td>\n",
       "      <td>0.707515</td>\n",
       "      <td>-2.944866</td>\n",
       "      <td>0.392134</td>\n",
       "      <td>-2.651973</td>\n",
       "      <td>-0.301013</td>\n",
       "      <td>0.307261</td>\n",
       "    </tr>\n",
       "    <tr>\n",
       "      <th>3</th>\n",
       "      <td>0.030303</td>\n",
       "      <td>0.030303</td>\n",
       "      <td>0.030303</td>\n",
       "      <td>0.5</td>\n",
       "      <td>1</td>\n",
       "      <td>0.5</td>\n",
       "      <td>0.708025</td>\n",
       "      <td>-2.539401</td>\n",
       "      <td>0.424078</td>\n",
       "      <td>-2.246508</td>\n",
       "      <td>-0.269070</td>\n",
       "      <td>0.307771</td>\n",
       "    </tr>\n",
       "    <tr>\n",
       "      <th>4</th>\n",
       "      <td>0.040404</td>\n",
       "      <td>0.040404</td>\n",
       "      <td>0.040404</td>\n",
       "      <td>0.5</td>\n",
       "      <td>1</td>\n",
       "      <td>0.5</td>\n",
       "      <td>0.708739</td>\n",
       "      <td>-2.251719</td>\n",
       "      <td>0.451008</td>\n",
       "      <td>-1.958825</td>\n",
       "      <td>-0.242140</td>\n",
       "      <td>0.308485</td>\n",
       "    </tr>\n",
       "  </tbody>\n",
       "</table>\n",
       "</div>"
      ],
      "text/plain": [
       "          A         B         C  A_fixed  B_fixed  C_fixed       f_A  \\\n",
       "0  0.000000  0.000000  0.000000      0.5        1      0.5  0.707107   \n",
       "1  0.010101  0.010101  0.010101      0.5        1      0.5  0.707209   \n",
       "2  0.020202  0.020202  0.020202      0.5        1      0.5  0.707515   \n",
       "3  0.030303  0.030303  0.030303      0.5        1      0.5  0.708025   \n",
       "4  0.040404  0.040404  0.040404      0.5        1      0.5  0.708739   \n",
       "\n",
       "        f_B       f_C       g_A       g_B       g_C  \n",
       "0      -inf  0.250000      -inf -0.443147  0.306853  \n",
       "1 -3.638013  0.350504 -3.345120 -0.342643  0.306955  \n",
       "2 -2.944866  0.392134 -2.651973 -0.301013  0.307261  \n",
       "3 -2.539401  0.424078 -2.246508 -0.269070  0.307771  \n",
       "4 -2.251719  0.451008 -1.958825 -0.242140  0.308485  "
      ]
     },
     "execution_count": 8,
     "metadata": {},
     "output_type": "execute_result"
    }
   ],
   "source": [
    "dspace.head()"
   ]
  },
  {
   "cell_type": "code",
   "execution_count": 9,
   "id": "c5b9bf82",
   "metadata": {},
   "outputs": [
    {
     "data": {
      "text/plain": [
       "0.7075232676505476"
      ]
     },
     "execution_count": 9,
     "metadata": {},
     "output_type": "execute_result"
    }
   ],
   "source": [
    "f(0.020408, 1, 0.5)"
   ]
  },
  {
   "cell_type": "code",
   "execution_count": 10,
   "id": "f0e4a5ae",
   "metadata": {},
   "outputs": [
    {
     "data": {
      "text/plain": [
       "-2.641828298142627"
      ]
     },
     "execution_count": 10,
     "metadata": {},
     "output_type": "execute_result"
    }
   ],
   "source": [
    "g(0.020408, 1, 0.5)"
   ]
  },
  {
   "cell_type": "code",
   "execution_count": 11,
   "id": "378cc135",
   "metadata": {},
   "outputs": [
    {
     "data": {
      "text/plain": [
       "-2.9347215169560794"
      ]
     },
     "execution_count": 11,
     "metadata": {},
     "output_type": "execute_result"
    }
   ],
   "source": [
    "f(0.5, 0.020408, 0.5)"
   ]
  },
  {
   "cell_type": "code",
   "execution_count": 12,
   "id": "42322f33",
   "metadata": {},
   "outputs": [
    {
     "data": {
      "text/plain": [
       "-0.3002906091325167"
      ]
     },
     "execution_count": 12,
     "metadata": {},
     "output_type": "execute_result"
    }
   ],
   "source": [
    "g(0.5, 0.020408, 0.5)"
   ]
  },
  {
   "cell_type": "code",
   "execution_count": 13,
   "id": "2fdf8b2e",
   "metadata": {},
   "outputs": [
    {
     "data": {
      "text/plain": [
       "0.3928565714274286"
      ]
     },
     "execution_count": 13,
     "metadata": {},
     "output_type": "execute_result"
    }
   ],
   "source": [
    "f(0.5, 1, 0.020408)"
   ]
  },
  {
   "cell_type": "code",
   "execution_count": 14,
   "id": "544ebddd",
   "metadata": {},
   "outputs": [
    {
     "data": {
      "text/plain": [
       "0.3072693059040547"
      ]
     },
     "execution_count": 14,
     "metadata": {},
     "output_type": "execute_result"
    }
   ],
   "source": [
    "g(0.5, 1, 0.020408)"
   ]
  },
  {
   "cell_type": "code",
   "execution_count": 15,
   "id": "8ccf3146",
   "metadata": {},
   "outputs": [
    {
     "data": {
      "text/plain": [
       "<AxesSubplot:xlabel='A'>"
      ]
     },
     "execution_count": 15,
     "metadata": {},
     "output_type": "execute_result"
    },
    {
     "data": {
      "image/png": "[encoded data removed]",
      "text/plain": [
       "<Figure size 432x288 with 1 Axes>"
      ]
     },
     "metadata": {
      "needs_background": "light"
     },
     "output_type": "display_data"
    }
   ],
   "source": [
    "dspace.plot(x='A', y='f_A')"
   ]
  },
  {
   "cell_type": "code",
   "execution_count": 16,
   "id": "965cdb97",
   "metadata": {},
   "outputs": [
    {
     "data": {
      "text/plain": [
       "<AxesSubplot:xlabel='B'>"
      ]
     },
     "execution_count": 16,
     "metadata": {},
     "output_type": "execute_result"
    },
    {
     "data": {
      "image/png": "[encoded data removed]",
      "text/plain": [
       "<Figure size 432x288 with 1 Axes>"
      ]
     },
     "metadata": {
      "needs_background": "light"
     },
     "output_type": "display_data"
    }
   ],
   "source": [
    "dspace.plot(x='B', y='f_B')"
   ]
  },
  {
   "cell_type": "code",
   "execution_count": 17,
   "id": "e70e3b23",
   "metadata": {},
   "outputs": [
    {
     "data": {
      "text/plain": [
       "<AxesSubplot:xlabel='C'>"
      ]
     },
     "execution_count": 17,
     "metadata": {},
     "output_type": "execute_result"
    },
    {
     "data": {
      "image/png": "[encoded data removed]",
      "text/plain": [
       "<Figure size 432x288 with 1 Axes>"
      ]
     },
     "metadata": {
      "needs_background": "light"
     },
     "output_type": "display_data"
    }
   ],
   "source": [
    "dspace.plot(x='C', y='f_C')"
   ]
  },
  {
   "cell_type": "code",
   "execution_count": 18,
   "id": "5f410acb",
   "metadata": {},
   "outputs": [
    {
     "data": {
      "image/png": "[encoded data removed]",
      "text/plain": [
       "<Figure size 432x288 with 1 Axes>"
      ]
     },
     "metadata": {
      "needs_background": "light"
     },
     "output_type": "display_data"
    }
   ],
   "source": [
    "plt.plot(dspace['A'], dspace['f_A'], label='A')\n",
    "plt.plot(dspace['B'], dspace['f_B'], label='B')\n",
    "plt.plot(dspace['C'], dspace['f_C'], label='C')\n",
    "plt.legend()\n",
    "plt.show()"
   ]
  },
  {
   "cell_type": "code",
   "execution_count": 19,
   "id": "aa4479c7",
   "metadata": {},
   "outputs": [
    {
     "name": "stderr",
     "output_type": "stream",
     "text": [
      "/anaconda3/lib/python3.7/site-packages/ipykernel_launcher.py:2: RuntimeWarning: divide by zero encountered in log\n",
      "  \n"
     ]
    },
    {
     "data": {
      "image/png": "[encoded data removed]",
      "text/plain": [
       "<Figure size 432x288 with 1 Axes>"
      ]
     },
     "metadata": {
      "needs_background": "light"
     },
     "output_type": "display_data"
    }
   ],
   "source": [
    "plt.plot(A, A ** 2, label='A')\n",
    "plt.plot(B, np.log(B), label='B')\n",
    "plt.plot(C, np.sqrt(C), label='C')\n",
    "plt.legend()\n",
    "plt.show()"
   ]
  },
  {
   "cell_type": "code",
   "execution_count": 20,
   "id": "9dbecdd1",
   "metadata": {},
   "outputs": [
    {
     "data": {
      "image/png": "[encoded data removed]",
      "text/plain": [
       "<Figure size 432x288 with 1 Axes>"
      ]
     },
     "metadata": {
      "needs_background": "light"
     },
     "output_type": "display_data"
    }
   ],
   "source": [
    "plt.plot(dspace['A'], dspace['f_A'], label='f_A')\n",
    "plt.plot(dspace['A'], dspace['g_A'], label='g_A')\n",
    "plt.legend(loc='lower right')\n",
    "plt.show()"
   ]
  },
  {
   "cell_type": "code",
   "execution_count": 21,
   "id": "00595052",
   "metadata": {},
   "outputs": [
    {
     "data": {
      "image/png": "[encoded data removed]",
      "text/plain": [
       "<Figure size 432x288 with 1 Axes>"
      ]
     },
     "metadata": {
      "needs_background": "light"
     },
     "output_type": "display_data"
    }
   ],
   "source": [
    "plt.plot(dspace['B'], dspace['f_B'], label='f_B')\n",
    "plt.plot(dspace['B'], dspace['g_B'], label='g_B')\n",
    "plt.legend(loc='lower right')\n",
    "plt.show()"
   ]
  },
  {
   "cell_type": "code",
   "execution_count": 22,
   "id": "91451a56",
   "metadata": {},
   "outputs": [
    {
     "data": {
      "image/png": "[encoded data removed]",
      "text/plain": [
       "<Figure size 432x288 with 1 Axes>"
      ]
     },
     "metadata": {
      "needs_background": "light"
     },
     "output_type": "display_data"
    }
   ],
   "source": [
    "plt.plot(dspace['C'], dspace['f_C'], label='f_C')\n",
    "plt.plot(dspace['C'], dspace['g_C'], label='g_C')\n",
    "plt.legend(loc='lower right')\n",
    "plt.show()"
   ]
  },
  {
   "cell_type": "code",
   "execution_count": null,
   "id": "03834754",
   "metadata": {},
   "outputs": [],
   "source": []
  }
 ],
 "metadata": {
  "kernelspec": {
   "display_name": "Python 3",
   "language": "python",
   "name": "python3"
  },
  "language_info": {
   "codemirror_mode": {
    "name": "ipython",
    "version": 3
   },
   "file_extension": ".py",
   "mimetype": "text/x-python",
   "name": "python",
   "nbconvert_exporter": "python",
   "pygments_lexer": "ipython3",
   "version": "3.7.7"
  }
 },
 "nbformat": 4,
 "nbformat_minor": 5
}
